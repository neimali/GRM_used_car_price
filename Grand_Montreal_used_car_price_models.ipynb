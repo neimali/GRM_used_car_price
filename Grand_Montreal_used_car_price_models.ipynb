{
  "nbformat": 4,
  "nbformat_minor": 0,
  "metadata": {
    "colab": {
      "provenance": [],
      "mount_file_id": "1Y5Ap1d6WjDeruznz8hrAFWuqq8fzgU6A",
      "authorship_tag": "ABX9TyNRt+v0cSKI5JzlCJj5rCMF",
      "include_colab_link": true
    },
    "kernelspec": {
      "name": "python3",
      "display_name": "Python 3"
    },
    "language_info": {
      "name": "python"
    }
  },
  "cells": [
    {
      "cell_type": "markdown",
      "metadata": {
        "id": "view-in-github",
        "colab_type": "text"
      },
      "source": [
        "<a href=\"https://colab.research.google.com/github/neimali/GRM_used_car_price/blob/main/Grand_Montreal_used_car_price_models.ipynb\" target=\"_parent\"><img src=\"https://colab.research.google.com/assets/colab-badge.svg\" alt=\"Open In Colab\"/></a>"
      ]
    },
    {
      "cell_type": "code",
      "execution_count": null,
      "metadata": {
        "id": "-VFgl7yNulfr"
      },
      "outputs": [],
      "source": [
        "import pandas as pd\n",
        "from sklearn.model_selection import train_test_split, cross_val_score, GridSearchCV\n",
        "from sklearn.linear_model import LinearRegression, Lasso\n",
        "from sklearn.ensemble import RandomForestRegressor\n",
        "from sklearn.metrics import mean_absolute_error\n",
        "import numpy as np\n",
        "from matplotlib import pyplot as plt"
      ]
    },
    {
      "cell_type": "code",
      "source": [
        "df=pd.read_csv('/content/drive/MyDrive/used_car_data/eda_data.csv')"
      ],
      "metadata": {
        "id": "Y4VpcvY-7nnr"
      },
      "execution_count": null,
      "outputs": []
    },
    {
      "cell_type": "code",
      "source": [
        "df.head(10)"
      ],
      "metadata": {
        "colab": {
          "base_uri": "https://localhost:8080/",
          "height": 930
        },
        "id": "nKXg3QW87rfv",
        "outputId": "fcf96da7-9554-4ff5-889f-88fb2f4712e7"
      },
      "execution_count": null,
      "outputs": [
        {
          "output_type": "execute_result",
          "data": {
            "text/plain": [
              "   Unnamed: 0          brand     model  model_year  list_price  color  \\\n",
              "0           0          Scion        tC        2016       18499    Red   \n",
              "1           1  Mercedes-Benz     Other        2019       36995  Black   \n",
              "2           2            BMW        X1        2018       31995  Black   \n",
              "3           3          Volvo      XC60        2019       44994   Grey   \n",
              "4           4            GMC   Terrain        2018       23997  White   \n",
              "5           5            BMW  5-Series        2005       23500  Black   \n",
              "6           6         Toyota     Other        2020       26000   Grey   \n",
              "7           7           Audi        Q5        2019       43995  Other   \n",
              "8           8         Subaru  Forester        2012        6995   Grey   \n",
              "9           9          Mazda      CX-5        2012        4995  Other   \n",
              "\n",
              "                                        configration  body_type wheel_config  \\\n",
              "0                              Sports Coupe 6naSpd M  Hatchback          FWD   \n",
              "1  A250 4MATIC * APPLE CAR PLAY | CHARGEUR SANS F...  Hatchback          AWD   \n",
              "2           XDrive28i véhicule d'activités sportives        SUV        4 x 4   \n",
              "3                                    T6 Momentum AWD        SUV          AWD   \n",
              "4                                         SLE Diesel        SUV          FWD   \n",
              "5                                               545i      Sedan          RWD   \n",
              "6                                                 na  Hatchback          FWD   \n",
              "7                                PROGRESSIV CAR PLAY        SUV          AWD   \n",
              "8                                                500  Hatchback          FWD   \n",
              "9                                              Sport        SUV        4 x 4   \n",
              "\n",
              "  transmission        fuel_type  mileage  \\\n",
              "0       Manual            Other    81000   \n",
              "1    Automatic            Other    18300   \n",
              "2    Automatic         Gasoline    66139   \n",
              "3    Automatic            Other    25605   \n",
              "4    Automatic           Diesel   119250   \n",
              "5       Manual         Gasoline   135000   \n",
              "6    Automatic  Hybrid-Electric    54912   \n",
              "7    Automatic         Gasoline    68779   \n",
              "8    Automatic         Gasoline   117000   \n",
              "9    Automatic         Gasoline   230000   \n",
              "\n",
              "                                         carfax_link  \\\n",
              "0                                                 na   \n",
              "1                                                 na   \n",
              "2  https://www.carproof.com/order?ref=kijiji&vin=...   \n",
              "3                                                 na   \n",
              "4                                                 na   \n",
              "5                                                 na   \n",
              "6  https://www.carproof.com/order?ref=kijiji&vin=...   \n",
              "7                                                 na   \n",
              "8  https://www.carproof.com/order?ref=kijiji&vin=...   \n",
              "9  https://www.carproof.com/order?ref=kijiji&vin=...   \n",
              "\n",
              "                                      dealer_address  \\\n",
              "0  6464 Boul Henri-Bourassa E, Montréal-Nord, QC,...   \n",
              "1  4844 Boulevard Taschereau, Greenfield Park, QC...   \n",
              "2        6900 Louis-H Lafontaine, Anjou, QC, H1M 2T2   \n",
              "3  7050 rue Saint Jacques West, Montreal, QC, H4B...   \n",
              "4  7050 rue Saint Jacques West, Montreal, QC, H4B...   \n",
              "5                           Pointe-Claire, QC H9R5E2   \n",
              "6             1540 Clair cres., Lachine, QC, H8S 4E6   \n",
              "7        2435 boulevard Chomedey, Laval, QC, H7T 2W3   \n",
              "8  352 Boulevard du Cure-labelle, Laval, QC, H7V 2X4   \n",
              "9  352 Boulevard du Cure-labelle, Laval, QC, H7V 2X4   \n",
              "\n",
              "                                     modelwithconfig  car_age  with_carfax  \n",
              "0                         tC ~ Sports Coupe 6naSpd M        6            0  \n",
              "1  Other ~ A250 4MATIC * APPLE CAR PLAY | CHARGEU...        3            0  \n",
              "2      X1 ~ XDrive28i véhicule d'activités sportives        4            1  \n",
              "3                             XC60 ~ T6 Momentum AWD        3            0  \n",
              "4                               Terrain ~ SLE Diesel        4            0  \n",
              "5                                    5-Series ~ 545i       17            0  \n",
              "6                                         Other ~ na        2            1  \n",
              "7                           Q5 ~ PROGRESSIV CAR PLAY        3            0  \n",
              "8                                     Forester ~ 500       10            1  \n",
              "9                                       CX-5 ~ Sport       10            1  "
            ],
            "text/html": [
              "\n",
              "  <div id=\"df-49688814-d79e-44ce-ae8f-495867b948b5\">\n",
              "    <div class=\"colab-df-container\">\n",
              "      <div>\n",
              "<style scoped>\n",
              "    .dataframe tbody tr th:only-of-type {\n",
              "        vertical-align: middle;\n",
              "    }\n",
              "\n",
              "    .dataframe tbody tr th {\n",
              "        vertical-align: top;\n",
              "    }\n",
              "\n",
              "    .dataframe thead th {\n",
              "        text-align: right;\n",
              "    }\n",
              "</style>\n",
              "<table border=\"1\" class=\"dataframe\">\n",
              "  <thead>\n",
              "    <tr style=\"text-align: right;\">\n",
              "      <th></th>\n",
              "      <th>Unnamed: 0</th>\n",
              "      <th>brand</th>\n",
              "      <th>model</th>\n",
              "      <th>model_year</th>\n",
              "      <th>list_price</th>\n",
              "      <th>color</th>\n",
              "      <th>configration</th>\n",
              "      <th>body_type</th>\n",
              "      <th>wheel_config</th>\n",
              "      <th>transmission</th>\n",
              "      <th>fuel_type</th>\n",
              "      <th>mileage</th>\n",
              "      <th>carfax_link</th>\n",
              "      <th>dealer_address</th>\n",
              "      <th>modelwithconfig</th>\n",
              "      <th>car_age</th>\n",
              "      <th>with_carfax</th>\n",
              "    </tr>\n",
              "  </thead>\n",
              "  <tbody>\n",
              "    <tr>\n",
              "      <th>0</th>\n",
              "      <td>0</td>\n",
              "      <td>Scion</td>\n",
              "      <td>tC</td>\n",
              "      <td>2016</td>\n",
              "      <td>18499</td>\n",
              "      <td>Red</td>\n",
              "      <td>Sports Coupe 6naSpd M</td>\n",
              "      <td>Hatchback</td>\n",
              "      <td>FWD</td>\n",
              "      <td>Manual</td>\n",
              "      <td>Other</td>\n",
              "      <td>81000</td>\n",
              "      <td>na</td>\n",
              "      <td>6464 Boul Henri-Bourassa E, Montréal-Nord, QC,...</td>\n",
              "      <td>tC ~ Sports Coupe 6naSpd M</td>\n",
              "      <td>6</td>\n",
              "      <td>0</td>\n",
              "    </tr>\n",
              "    <tr>\n",
              "      <th>1</th>\n",
              "      <td>1</td>\n",
              "      <td>Mercedes-Benz</td>\n",
              "      <td>Other</td>\n",
              "      <td>2019</td>\n",
              "      <td>36995</td>\n",
              "      <td>Black</td>\n",
              "      <td>A250 4MATIC * APPLE CAR PLAY | CHARGEUR SANS F...</td>\n",
              "      <td>Hatchback</td>\n",
              "      <td>AWD</td>\n",
              "      <td>Automatic</td>\n",
              "      <td>Other</td>\n",
              "      <td>18300</td>\n",
              "      <td>na</td>\n",
              "      <td>4844 Boulevard Taschereau, Greenfield Park, QC...</td>\n",
              "      <td>Other ~ A250 4MATIC * APPLE CAR PLAY | CHARGEU...</td>\n",
              "      <td>3</td>\n",
              "      <td>0</td>\n",
              "    </tr>\n",
              "    <tr>\n",
              "      <th>2</th>\n",
              "      <td>2</td>\n",
              "      <td>BMW</td>\n",
              "      <td>X1</td>\n",
              "      <td>2018</td>\n",
              "      <td>31995</td>\n",
              "      <td>Black</td>\n",
              "      <td>XDrive28i véhicule d'activités sportives</td>\n",
              "      <td>SUV</td>\n",
              "      <td>4 x 4</td>\n",
              "      <td>Automatic</td>\n",
              "      <td>Gasoline</td>\n",
              "      <td>66139</td>\n",
              "      <td>https://www.carproof.com/order?ref=kijiji&amp;vin=...</td>\n",
              "      <td>6900 Louis-H Lafontaine, Anjou, QC, H1M 2T2</td>\n",
              "      <td>X1 ~ XDrive28i véhicule d'activités sportives</td>\n",
              "      <td>4</td>\n",
              "      <td>1</td>\n",
              "    </tr>\n",
              "    <tr>\n",
              "      <th>3</th>\n",
              "      <td>3</td>\n",
              "      <td>Volvo</td>\n",
              "      <td>XC60</td>\n",
              "      <td>2019</td>\n",
              "      <td>44994</td>\n",
              "      <td>Grey</td>\n",
              "      <td>T6 Momentum AWD</td>\n",
              "      <td>SUV</td>\n",
              "      <td>AWD</td>\n",
              "      <td>Automatic</td>\n",
              "      <td>Other</td>\n",
              "      <td>25605</td>\n",
              "      <td>na</td>\n",
              "      <td>7050 rue Saint Jacques West, Montreal, QC, H4B...</td>\n",
              "      <td>XC60 ~ T6 Momentum AWD</td>\n",
              "      <td>3</td>\n",
              "      <td>0</td>\n",
              "    </tr>\n",
              "    <tr>\n",
              "      <th>4</th>\n",
              "      <td>4</td>\n",
              "      <td>GMC</td>\n",
              "      <td>Terrain</td>\n",
              "      <td>2018</td>\n",
              "      <td>23997</td>\n",
              "      <td>White</td>\n",
              "      <td>SLE Diesel</td>\n",
              "      <td>SUV</td>\n",
              "      <td>FWD</td>\n",
              "      <td>Automatic</td>\n",
              "      <td>Diesel</td>\n",
              "      <td>119250</td>\n",
              "      <td>na</td>\n",
              "      <td>7050 rue Saint Jacques West, Montreal, QC, H4B...</td>\n",
              "      <td>Terrain ~ SLE Diesel</td>\n",
              "      <td>4</td>\n",
              "      <td>0</td>\n",
              "    </tr>\n",
              "    <tr>\n",
              "      <th>5</th>\n",
              "      <td>5</td>\n",
              "      <td>BMW</td>\n",
              "      <td>5-Series</td>\n",
              "      <td>2005</td>\n",
              "      <td>23500</td>\n",
              "      <td>Black</td>\n",
              "      <td>545i</td>\n",
              "      <td>Sedan</td>\n",
              "      <td>RWD</td>\n",
              "      <td>Manual</td>\n",
              "      <td>Gasoline</td>\n",
              "      <td>135000</td>\n",
              "      <td>na</td>\n",
              "      <td>Pointe-Claire, QC H9R5E2</td>\n",
              "      <td>5-Series ~ 545i</td>\n",
              "      <td>17</td>\n",
              "      <td>0</td>\n",
              "    </tr>\n",
              "    <tr>\n",
              "      <th>6</th>\n",
              "      <td>6</td>\n",
              "      <td>Toyota</td>\n",
              "      <td>Other</td>\n",
              "      <td>2020</td>\n",
              "      <td>26000</td>\n",
              "      <td>Grey</td>\n",
              "      <td>na</td>\n",
              "      <td>Hatchback</td>\n",
              "      <td>FWD</td>\n",
              "      <td>Automatic</td>\n",
              "      <td>Hybrid-Electric</td>\n",
              "      <td>54912</td>\n",
              "      <td>https://www.carproof.com/order?ref=kijiji&amp;vin=...</td>\n",
              "      <td>1540 Clair cres., Lachine, QC, H8S 4E6</td>\n",
              "      <td>Other ~ na</td>\n",
              "      <td>2</td>\n",
              "      <td>1</td>\n",
              "    </tr>\n",
              "    <tr>\n",
              "      <th>7</th>\n",
              "      <td>7</td>\n",
              "      <td>Audi</td>\n",
              "      <td>Q5</td>\n",
              "      <td>2019</td>\n",
              "      <td>43995</td>\n",
              "      <td>Other</td>\n",
              "      <td>PROGRESSIV CAR PLAY</td>\n",
              "      <td>SUV</td>\n",
              "      <td>AWD</td>\n",
              "      <td>Automatic</td>\n",
              "      <td>Gasoline</td>\n",
              "      <td>68779</td>\n",
              "      <td>na</td>\n",
              "      <td>2435 boulevard Chomedey, Laval, QC, H7T 2W3</td>\n",
              "      <td>Q5 ~ PROGRESSIV CAR PLAY</td>\n",
              "      <td>3</td>\n",
              "      <td>0</td>\n",
              "    </tr>\n",
              "    <tr>\n",
              "      <th>8</th>\n",
              "      <td>8</td>\n",
              "      <td>Subaru</td>\n",
              "      <td>Forester</td>\n",
              "      <td>2012</td>\n",
              "      <td>6995</td>\n",
              "      <td>Grey</td>\n",
              "      <td>500</td>\n",
              "      <td>Hatchback</td>\n",
              "      <td>FWD</td>\n",
              "      <td>Automatic</td>\n",
              "      <td>Gasoline</td>\n",
              "      <td>117000</td>\n",
              "      <td>https://www.carproof.com/order?ref=kijiji&amp;vin=...</td>\n",
              "      <td>352 Boulevard du Cure-labelle, Laval, QC, H7V 2X4</td>\n",
              "      <td>Forester ~ 500</td>\n",
              "      <td>10</td>\n",
              "      <td>1</td>\n",
              "    </tr>\n",
              "    <tr>\n",
              "      <th>9</th>\n",
              "      <td>9</td>\n",
              "      <td>Mazda</td>\n",
              "      <td>CX-5</td>\n",
              "      <td>2012</td>\n",
              "      <td>4995</td>\n",
              "      <td>Other</td>\n",
              "      <td>Sport</td>\n",
              "      <td>SUV</td>\n",
              "      <td>4 x 4</td>\n",
              "      <td>Automatic</td>\n",
              "      <td>Gasoline</td>\n",
              "      <td>230000</td>\n",
              "      <td>https://www.carproof.com/order?ref=kijiji&amp;vin=...</td>\n",
              "      <td>352 Boulevard du Cure-labelle, Laval, QC, H7V 2X4</td>\n",
              "      <td>CX-5 ~ Sport</td>\n",
              "      <td>10</td>\n",
              "      <td>1</td>\n",
              "    </tr>\n",
              "  </tbody>\n",
              "</table>\n",
              "</div>\n",
              "      <button class=\"colab-df-convert\" onclick=\"convertToInteractive('df-49688814-d79e-44ce-ae8f-495867b948b5')\"\n",
              "              title=\"Convert this dataframe to an interactive table.\"\n",
              "              style=\"display:none;\">\n",
              "        \n",
              "  <svg xmlns=\"http://www.w3.org/2000/svg\" height=\"24px\"viewBox=\"0 0 24 24\"\n",
              "       width=\"24px\">\n",
              "    <path d=\"M0 0h24v24H0V0z\" fill=\"none\"/>\n",
              "    <path d=\"M18.56 5.44l.94 2.06.94-2.06 2.06-.94-2.06-.94-.94-2.06-.94 2.06-2.06.94zm-11 1L8.5 8.5l.94-2.06 2.06-.94-2.06-.94L8.5 2.5l-.94 2.06-2.06.94zm10 10l.94 2.06.94-2.06 2.06-.94-2.06-.94-.94-2.06-.94 2.06-2.06.94z\"/><path d=\"M17.41 7.96l-1.37-1.37c-.4-.4-.92-.59-1.43-.59-.52 0-1.04.2-1.43.59L10.3 9.45l-7.72 7.72c-.78.78-.78 2.05 0 2.83L4 21.41c.39.39.9.59 1.41.59.51 0 1.02-.2 1.41-.59l7.78-7.78 2.81-2.81c.8-.78.8-2.07 0-2.86zM5.41 20L4 18.59l7.72-7.72 1.47 1.35L5.41 20z\"/>\n",
              "  </svg>\n",
              "      </button>\n",
              "      \n",
              "  <style>\n",
              "    .colab-df-container {\n",
              "      display:flex;\n",
              "      flex-wrap:wrap;\n",
              "      gap: 12px;\n",
              "    }\n",
              "\n",
              "    .colab-df-convert {\n",
              "      background-color: #E8F0FE;\n",
              "      border: none;\n",
              "      border-radius: 50%;\n",
              "      cursor: pointer;\n",
              "      display: none;\n",
              "      fill: #1967D2;\n",
              "      height: 32px;\n",
              "      padding: 0 0 0 0;\n",
              "      width: 32px;\n",
              "    }\n",
              "\n",
              "    .colab-df-convert:hover {\n",
              "      background-color: #E2EBFA;\n",
              "      box-shadow: 0px 1px 2px rgba(60, 64, 67, 0.3), 0px 1px 3px 1px rgba(60, 64, 67, 0.15);\n",
              "      fill: #174EA6;\n",
              "    }\n",
              "\n",
              "    [theme=dark] .colab-df-convert {\n",
              "      background-color: #3B4455;\n",
              "      fill: #D2E3FC;\n",
              "    }\n",
              "\n",
              "    [theme=dark] .colab-df-convert:hover {\n",
              "      background-color: #434B5C;\n",
              "      box-shadow: 0px 1px 3px 1px rgba(0, 0, 0, 0.15);\n",
              "      filter: drop-shadow(0px 1px 2px rgba(0, 0, 0, 0.3));\n",
              "      fill: #FFFFFF;\n",
              "    }\n",
              "  </style>\n",
              "\n",
              "      <script>\n",
              "        const buttonEl =\n",
              "          document.querySelector('#df-49688814-d79e-44ce-ae8f-495867b948b5 button.colab-df-convert');\n",
              "        buttonEl.style.display =\n",
              "          google.colab.kernel.accessAllowed ? 'block' : 'none';\n",
              "\n",
              "        async function convertToInteractive(key) {\n",
              "          const element = document.querySelector('#df-49688814-d79e-44ce-ae8f-495867b948b5');\n",
              "          const dataTable =\n",
              "            await google.colab.kernel.invokeFunction('convertToInteractive',\n",
              "                                                     [key], {});\n",
              "          if (!dataTable) return;\n",
              "\n",
              "          const docLinkHtml = 'Like what you see? Visit the ' +\n",
              "            '<a target=\"_blank\" href=https://colab.research.google.com/notebooks/data_table.ipynb>data table notebook</a>'\n",
              "            + ' to learn more about interactive tables.';\n",
              "          element.innerHTML = '';\n",
              "          dataTable['output_type'] = 'display_data';\n",
              "          await google.colab.output.renderOutput(dataTable, element);\n",
              "          const docLink = document.createElement('div');\n",
              "          docLink.innerHTML = docLinkHtml;\n",
              "          element.appendChild(docLink);\n",
              "        }\n",
              "      </script>\n",
              "    </div>\n",
              "  </div>\n",
              "  "
            ]
          },
          "metadata": {},
          "execution_count": 3
        }
      ]
    },
    {
      "cell_type": "code",
      "source": [
        "#choose relevant columns\n",
        "df_model=df[['list_price','mileage','car_age','brand','model','color','modelwithconfig','body_type','wheel_config','transmission','fuel_type','with_carfax']]\n",
        "#get dummy data\n",
        "df_dum=pd.get_dummies(df_model)\n",
        "#train test split\n",
        "x=df_dum.drop('list_price',axis=1)\n",
        "y=df_dum.list_price.values\n",
        "\n",
        "Xtrain, Xtest, Ytrain, Ytest = train_test_split(x,y, test_size=0.8, random_state=42)\n",
        "#multiple linear regression\n",
        "LR=LinearRegression()\n",
        "LR.fit(Xtrain,Ytrain)\n",
        "np.mean(cross_val_score(LR,Xtrain,Ytrain,scoring='neg_mean_absolute_error',cv=3))\n",
        "#lasso regression\n",
        "#random forest\n",
        "#tune model with gridsearchCV\n",
        "#test ensembles"
      ],
      "metadata": {
        "id": "cn7uZrkJ7r_0",
        "colab": {
          "base_uri": "https://localhost:8080/"
        },
        "outputId": "5ef2f6ef-4859-4a81-fe5d-28acb15f6a86"
      },
      "execution_count": null,
      "outputs": [
        {
          "output_type": "execute_result",
          "data": {
            "text/plain": [
              "-11832.83477174559"
            ]
          },
          "metadata": {},
          "execution_count": 4
        }
      ]
    },
    {
      "cell_type": "code",
      "source": [
        "las=Lasso(max_iter=10000)\n",
        "las.fit(Xtrain,Ytrain)\n",
        "np.mean(cross_val_score(las,Xtrain,Ytrain,scoring='neg_mean_absolute_error',cv=3))"
      ],
      "metadata": {
        "colab": {
          "base_uri": "https://localhost:8080/"
        },
        "id": "l16S6rvsRHty",
        "outputId": "336e161f-68b8-4bb3-973a-39b77edb83d2"
      },
      "execution_count": null,
      "outputs": [
        {
          "output_type": "execute_result",
          "data": {
            "text/plain": [
              "-9142.770747751576"
            ]
          },
          "metadata": {},
          "execution_count": 5
        }
      ]
    },
    {
      "cell_type": "code",
      "source": [
        "alpha=[]\n",
        "error=[]\n",
        "for i in range(1,100):\n",
        "  alpha.append(i/100)\n",
        "  Las=Lasso(alpha=(i/100),max_iter=10000)\n",
        "  error.append(np.mean(cross_val_score(las,Xtrain,Ytrain,scoring='neg_mean_absolute_error',cv=3)))\n",
        "plt.plot(alpha,error)"
      ],
      "metadata": {
        "colab": {
          "base_uri": "https://localhost:8080/",
          "height": 282
        },
        "id": "34IT1cB3R75f",
        "outputId": "7b82c267-1510-43a9-fc1b-2875028ffa09"
      },
      "execution_count": null,
      "outputs": [
        {
          "output_type": "execute_result",
          "data": {
            "text/plain": [
              "[<matplotlib.lines.Line2D at 0x7f909e542390>]"
            ]
          },
          "metadata": {},
          "execution_count": 6
        },
        {
          "output_type": "display_data",
          "data": {
            "text/plain": [
              "<Figure size 432x288 with 1 Axes>"
            ],
            "image/png": "[encoded data removed]"
          },
          "metadata": {
            "needs_background": "light"
          }
        }
      ]
    },
    {
      "cell_type": "code",
      "source": [
        "rf=RandomForestRegressor()\n",
        "np.mean(cross_val_score(rf,Xtrain,Ytrain,scoring='neg_mean_absolute_error',cv=3))"
      ],
      "metadata": {
        "colab": {
          "base_uri": "https://localhost:8080/"
        },
        "id": "J83OqZJDYEQL",
        "outputId": "b1bde596-5a6e-4188-ec2f-452b4ea54f95"
      },
      "execution_count": null,
      "outputs": [
        {
          "output_type": "execute_result",
          "data": {
            "text/plain": [
              "-8841.245200602518"
            ]
          },
          "metadata": {},
          "execution_count": 7
        }
      ]
    },
    {
      "cell_type": "code",
      "source": [
        "pars={'n_estimators':range(10,300,10),'criterion':('squared_error', 'absolute_error', 'poisson'),'max_features':('sqrt', 'log2', None)}\n",
        "gs=GridSearchCV(rf,pars,scoring='neg_mean_absolute_error',cv=3)\n",
        "gs.fit(Xtrain,Ytrain)\n",
        "\n",
        "gs.best_score_"
      ],
      "metadata": {
        "colab": {
          "base_uri": "https://localhost:8080/"
        },
        "id": "a29_ygQ7aHDr",
        "outputId": "5f301b5b-284d-45ac-e455-91c80652cbe9"
      },
      "execution_count": null,
      "outputs": [
        {
          "output_type": "execute_result",
          "data": {
            "text/plain": [
              "-8714.844612715693"
            ]
          },
          "metadata": {},
          "execution_count": 8
        }
      ]
    },
    {
      "cell_type": "code",
      "source": [
        "#test\n",
        "Ypred_LR=LR.predict(Xtest)\n",
        "Ypred_Las=las.predict(Xtest)\n",
        "Ypred_rf=gs.best_estimator_.predict(Xtest)\n",
        "\n",
        "print('Error of linear Regression:')\n",
        "print(mean_absolute_error(Ytest,Ypred_LR))\n",
        "print('---------------------------')\n",
        "print('Error of Lasso Regression:')\n",
        "print(mean_absolute_error(Ytest,Ypred_Las))\n",
        "print('---------------------------')\n",
        "print('Error of Random Forest:')\n",
        "print(mean_absolute_error(Ytest,Ypred_rf))"
      ],
      "metadata": {
        "colab": {
          "base_uri": "https://localhost:8080/"
        },
        "id": "uf1spvgwwk10",
        "outputId": "6e68b909-dbc9-4977-f2e0-85df67d3eb8e"
      },
      "execution_count": null,
      "outputs": [
        {
          "output_type": "stream",
          "name": "stdout",
          "text": [
            "Error of linear Regression:\n",
            "10423.384942805396\n",
            "---------------------------\n",
            "Error of Lasso Regression:\n",
            "9115.568433564498\n",
            "---------------------------\n",
            "Error of Random Forest:\n",
            "8548.350174692423\n"
          ]
        }
      ]
    },
    {
      "cell_type": "code",
      "source": [
        "import pickle\n",
        "pickl = {'model': gs.best_estimator_}\n",
        "pickle.dump( pickl, open( 'model_file' + \".p\", \"wb\" ) )"
      ],
      "metadata": {
        "id": "oFESYMJ0A2PP"
      },
      "execution_count": null,
      "outputs": []
    }
  ]
}